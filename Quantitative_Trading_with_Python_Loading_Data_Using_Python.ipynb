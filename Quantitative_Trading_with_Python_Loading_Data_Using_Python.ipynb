{
  "nbformat": 4,
  "nbformat_minor": 0,
  "metadata": {
    "colab": {
      "name": "Quantitative Trading with Python: Loading Data Using Python.ipynb",
      "provenance": [],
      "toc_visible": true,
      "authorship_tag": "ABX9TyOEChpMkzbZIV4UwDNzI/N/",
      "include_colab_link": true
    },
    "kernelspec": {
      "display_name": "Python 3",
      "name": "python3"
    },
    "language_info": {
      "name": "python"
    }
  },
  "cells": [
    {
      "cell_type": "markdown",
      "metadata": {
        "id": "view-in-github",
        "colab_type": "text"
      },
      "source": [
        "<a href=\"https://colab.research.google.com/github/SamiEzz/MineDor/blob/main/Quantitative_Trading_with_Python_Loading_Data_Using_Python.ipynb\" target=\"_parent\"><img src=\"https://colab.research.google.com/assets/colab-badge.svg\" alt=\"Open In Colab\"/></a>"
      ]
    },
    {
      "cell_type": "markdown",
      "metadata": {
        "id": "zKqx599kbLGD"
      },
      "source": [
        "# Environment Setup\n",
        "Before we dive deep into quantitative trading, we should have the required data that we want to work with. In this scenario, we'll focus on the entire process of collecting high-quality data from different sources and load them into pandas dataframes.\n",
        "\n",
        "Some of the important sources of data you can explore:\n",
        "\n",
        "- Yahoo Finance\n",
        "- Quandl\n",
        "- Intrinio\n",
        "\n",
        "We are only going to cover Yahoo finance and pandas-datareader in this scenario, but you can check out documentation of the other two. It's pretty simple and straight forward.\n",
        "\n",
        "So, let's set up our environment first.\n",
        "\n",
        "Let's first execute installation command in the terminal:\n",
        "\n",
        "The next step is to install the required libraries that will facilitate data from Yahoo Finance and FRED (Federal Reserve Economic Data).\n"
      ]
    },
    {
      "cell_type": "code",
      "metadata": {
        "colab": {
          "base_uri": "https://localhost:8080/"
        },
        "id": "z2WE2xtMa_1i",
        "outputId": "9cb52d62-ebc6-47b7-e9db-38202cc37e4d"
      },
      "source": [
        "!pip install yfinance pandas-datareader\n"
      ],
      "execution_count": null,
      "outputs": [
        {
          "output_type": "stream",
          "text": [
            "Requirement already satisfied: yfinance in /usr/local/lib/python3.7/dist-packages (0.1.59)\n",
            "Requirement already satisfied: pandas-datareader in /usr/local/lib/python3.7/dist-packages (0.9.0)\n",
            "Requirement already satisfied: numpy>=1.15 in /usr/local/lib/python3.7/dist-packages (from yfinance) (1.19.5)\n",
            "Requirement already satisfied: lxml>=4.5.1 in /usr/local/lib/python3.7/dist-packages (from yfinance) (4.6.3)\n",
            "Requirement already satisfied: requests>=2.20 in /usr/local/lib/python3.7/dist-packages (from yfinance) (2.23.0)\n",
            "Requirement already satisfied: multitasking>=0.0.7 in /usr/local/lib/python3.7/dist-packages (from yfinance) (0.0.9)\n",
            "Requirement already satisfied: pandas>=0.24 in /usr/local/lib/python3.7/dist-packages (from yfinance) (1.1.5)\n",
            "Requirement already satisfied: certifi>=2017.4.17 in /usr/local/lib/python3.7/dist-packages (from requests>=2.20->yfinance) (2020.12.5)\n",
            "Requirement already satisfied: idna<3,>=2.5 in /usr/local/lib/python3.7/dist-packages (from requests>=2.20->yfinance) (2.10)\n",
            "Requirement already satisfied: chardet<4,>=3.0.2 in /usr/local/lib/python3.7/dist-packages (from requests>=2.20->yfinance) (3.0.4)\n",
            "Requirement already satisfied: urllib3!=1.25.0,!=1.25.1,<1.26,>=1.21.1 in /usr/local/lib/python3.7/dist-packages (from requests>=2.20->yfinance) (1.24.3)\n",
            "Requirement already satisfied: pytz>=2017.2 in /usr/local/lib/python3.7/dist-packages (from pandas>=0.24->yfinance) (2018.9)\n",
            "Requirement already satisfied: python-dateutil>=2.7.3 in /usr/local/lib/python3.7/dist-packages (from pandas>=0.24->yfinance) (2.8.1)\n",
            "Requirement already satisfied: six>=1.5 in /usr/local/lib/python3.7/dist-packages (from python-dateutil>=2.7.3->pandas>=0.24->yfinance) (1.15.0)\n"
          ],
          "name": "stdout"
        }
      ]
    },
    {
      "cell_type": "markdown",
      "metadata": {
        "id": "U80pVHO3brUT"
      },
      "source": [
        "And our environment is all set up and we are ready to start gathering data now."
      ]
    },
    {
      "cell_type": "markdown",
      "metadata": {
        "id": "soe_tzDDbqQv"
      },
      "source": [
        "Extracting data from Yahoo Finance\n",
        "With the environment all set now, let's load the end-of-day stock pricing data. For this entire series, we'll be working with the Apple stock prices from 2011-2020."
      ]
    },
    {
      "cell_type": "markdown",
      "metadata": {
        "id": "7qDKLvAFcA0V"
      },
      "source": [
        "Now, import the required libraries:\n"
      ]
    },
    {
      "cell_type": "code",
      "metadata": {
        "id": "j1p-7AG5cDtu"
      },
      "source": [
        "\n",
        "import pandas as pd\n",
        "import yfinance as yf\n"
      ],
      "execution_count": null,
      "outputs": []
    },
    {
      "cell_type": "markdown",
      "metadata": {
        "id": "Qmp8KUh8cEz3"
      },
      "source": [
        "To download the data from Yahoo Finance, you need to pass the stock symbol (AAPL in our case), starting date, ending date, and progress to set the progress bar visibility:\n"
      ]
    },
    {
      "cell_type": "code",
      "metadata": {
        "id": "xLD5XnF0cH-a"
      },
      "source": [
        "df_apple = yf.download('AAPL',\n",
        "                       start='2011-01-01',\n",
        "                       end='2020-09-30',\n",
        "                       progress=False)\n"
      ],
      "execution_count": null,
      "outputs": []
    },
    {
      "cell_type": "markdown",
      "metadata": {
        "id": "osiUwoV1cJt4"
      },
      "source": [
        "This will give us the data in a pandas dataframe which we can inspect using:\n"
      ]
    },
    {
      "cell_type": "code",
      "metadata": {
        "colab": {
          "base_uri": "https://localhost:8080/"
        },
        "id": "MPMtZAfucMhJ",
        "outputId": "ed72dfb1-6e9c-4034-8d1a-473c73d23b1c"
      },
      "source": [
        "print(df_apple.head())"
      ],
      "execution_count": null,
      "outputs": [
        {
          "output_type": "stream",
          "text": [
            "                 Open       High        Low      Close  Adj Close     Volume\n",
            "Date                                                                        \n",
            "2011-01-03  11.630000  11.795000  11.601429  11.770357  10.121364  445138400\n",
            "2011-01-04  11.872857  11.875000  11.719643  11.831786  10.174186  309080800\n",
            "2011-01-05  11.769643  11.940714  11.767857  11.928571  10.257413  255519600\n",
            "2011-01-06  11.954286  11.973214  11.889286  11.918929  10.249121  300428800\n",
            "2011-01-07  11.928214  12.012500  11.853571  12.004286  10.322517  311931200\n"
          ],
          "name": "stdout"
        }
      ]
    },
    {
      "cell_type": "markdown",
      "metadata": {
        "id": "8AQZUQJ4c98A"
      },
      "source": [
        "We have the Apple EOD stock pricing data in a dataframe containing daily Open, High, Low, and Close (OHLC) prices, as well as the adjusted close price and volume.\n",
        "\n",
        "Let's now look at another possible method of downloading the historical stock pricing data."
      ]
    },
    {
      "cell_type": "markdown",
      "metadata": {
        "id": "ZYRJ8OLHddyo"
      },
      "source": [
        "# Extracting data from pandas-datareader\n",
        "\n",
        "Another way we can download the same data is using the pandas-datareader library that we installed.\n",
        "\n",
        "In fact, pandas-datareader provides functions to extract data from various internet sources in a pandas dataframe. Currently, the following sources are supported by them:\n",
        "\n",
        "- Tiingo\n",
        "- IEX\n",
        "- Alpha Vantage\n",
        "- Enigma\n",
        "- Quandl\n",
        "- St.Louis FED (FRED)\n",
        "- Kenneth French’s data library\n",
        "- World Bank\n",
        "- OECD\n",
        "- Eurostat\n",
        "- Thrift Savings Plan\n",
        "- Nasdaq Trader symbol definitions\n",
        "- Stooq\n",
        "- MOEX\n",
        "- Naver Finance\n",
        "- For this example, let's try to extract data from Quandl.\n",
        "\n",
        "Similar to what we did in the previous step, here's how we'll download data here:\n",
        "\n",
        "#\n",
        "\n",
        "We have the same Apple stock prices for the same time period with same columns(features)."
      ]
    },
    {
      "cell_type": "code",
      "metadata": {
        "colab": {
          "base_uri": "https://localhost:8080/"
        },
        "id": "FpzChsAMd4ay",
        "outputId": "443a2e7d-d8d1-47e0-fabd-a2b019054ba4"
      },
      "source": [
        "import pandas_datareader.data as pdr\n",
        "\n",
        "df_apple = pdr.DataReader('AAPL',\n",
        "                       'quandl',\n",
        "                       '2011-01-01',\n",
        "                       '2020-09-30',\n",
        "                       api_key='yuqp72Y_-GpAsrjQEXfL')\n",
        "\n",
        "# his will give us the data in a pandas dataframe which we can inspect using:\n",
        "\n",
        "# First five rows\n",
        "print(df_apple.head())\n",
        "\n",
        "# Note: \n",
        "# Incase if an error arises with pdr.DataReader due to the api_key argument, \n",
        "# please create an account on quandl to obtain your own personal API key."
      ],
      "execution_count": null,
      "outputs": [
        {
          "output_type": "stream",
          "text": [
            "              Open    High     Low  ...  AdjLow  AdjClose   AdjVolume\n",
            "Date                                ...                              \n",
            "2018-03-27  173.68  175.15  166.92  ...  166.92   168.340  38962839.0\n",
            "2018-03-26  168.07  173.10  166.44  ...  166.44   172.770  36272617.0\n",
            "2018-03-23  168.39  169.92  164.94  ...  164.94   164.940  40248954.0\n",
            "2018-03-22  170.00  172.68  168.60  ...  168.60   168.845  41051076.0\n",
            "2018-03-21  175.04  175.09  171.26  ...  171.26   171.270  35247358.0\n",
            "\n",
            "[5 rows x 12 columns]\n"
          ],
          "name": "stdout"
        }
      ]
    },
    {
      "cell_type": "code",
      "metadata": {
        "colab": {
          "base_uri": "https://localhost:8080/"
        },
        "id": "UqjjWGbMeHid",
        "outputId": "44bec3cc-b78b-4130-85b4-9f5887d3f701"
      },
      "source": [
        "# Information about the dataframe\n",
        "print(df_apple.info())\n"
      ],
      "execution_count": null,
      "outputs": [
        {
          "output_type": "stream",
          "text": [
            "<class 'pandas.core.frame.DataFrame'>\n",
            "DatetimeIndex: 1818 entries, 2018-03-27 to 2011-01-03\n",
            "Data columns (total 12 columns):\n",
            " #   Column      Non-Null Count  Dtype  \n",
            "---  ------      --------------  -----  \n",
            " 0   Open        1818 non-null   float64\n",
            " 1   High        1818 non-null   float64\n",
            " 2   Low         1818 non-null   float64\n",
            " 3   Close       1818 non-null   float64\n",
            " 4   Volume      1818 non-null   float64\n",
            " 5   ExDividend  1818 non-null   float64\n",
            " 6   SplitRatio  1818 non-null   float64\n",
            " 7   AdjOpen     1818 non-null   float64\n",
            " 8   AdjHigh     1818 non-null   float64\n",
            " 9   AdjLow      1818 non-null   float64\n",
            " 10  AdjClose    1818 non-null   float64\n",
            " 11  AdjVolume   1818 non-null   float64\n",
            "dtypes: float64(12)\n",
            "memory usage: 184.6 KB\n",
            "None\n"
          ],
          "name": "stdout"
        }
      ]
    },
    {
      "cell_type": "markdown",
      "metadata": {
        "id": "GX-71a3Geh32"
      },
      "source": [
        "# Initial Exploration of Data\n",
        "We have the data loaded into dataframes but we don't know much about what it contains and what each column represents.\n",
        "\n",
        "We saw we have the following columns in the previous step:\n",
        "\n",
        "- Date: specifies trading date\n",
        "- Open: opening price\n",
        "- High: maximum price during the day\n",
        "- Low: minimum price during the day\n",
        "- Close: close price adjusted for splits\n",
        "- Volume: number of shares traded on a particular day\n",
        "- Split: number of shares after split / number of shares before\n",
        "- Dividend: number of shares after dividend / number of shares before\n",
        "- AdjOpen: adjusted opening price for that day\n",
        "- AdjHigh: adjusted maximum price for that day\n",
        "- AdjLow: adjusted lowest price for that day\n",
        "- AdjClose: adjusted close price adjusted for both dividends and splits\n",
        "- AdjVolume: adjusted volume of shares traded\n",
        "\n",
        "To get a slightly deeper understanding of the prices and volumes, we should have a good understanding of the summary statistics of each column:"
      ]
    },
    {
      "cell_type": "code",
      "metadata": {
        "colab": {
          "base_uri": "https://localhost:8080/"
        },
        "id": "AmVJGEtaewY2",
        "outputId": "7352c3f9-af8d-40ef-f311-b6b1aa984f05"
      },
      "source": [
        "print(df_apple.describe())\n"
      ],
      "execution_count": null,
      "outputs": [
        {
          "output_type": "stream",
          "text": [
            "              Open         High  ...     AdjClose     AdjVolume\n",
            "count  1818.000000  1818.000000  ...  1818.000000  1.818000e+03\n",
            "mean    293.583947   296.184716  ...    93.590007  7.538906e+07\n",
            "std     191.352004   193.057581  ...    36.015008  5.385936e+07\n",
            "min      90.000000    90.700000  ...    40.523015  1.147592e+07\n",
            "25%     115.922500   116.735000  ...    65.139696  3.497941e+07\n",
            "50%     173.260000   174.685000  ...    90.851617  6.085693e+07\n",
            "75%     464.353675   468.237500  ...   114.830021  9.970800e+07\n",
            "max     702.410000   705.070000  ...   181.720000  4.702495e+08\n",
            "\n",
            "[8 rows x 12 columns]\n"
          ],
          "name": "stdout"
        }
      ]
    },
    {
      "cell_type": "markdown",
      "metadata": {
        "id": "wgSUN6B2e0ep"
      },
      "source": [
        "Next, we should explore the movement of prices of the Apple stock over the years.\n",
        "\n",
        "Let's plot the adjusted closing prices on the chart:"
      ]
    },
    {
      "cell_type": "code",
      "metadata": {
        "colab": {
          "background_save": true
        },
        "id": "inQylB5Pew02",
        "outputId": "7b3fea32-5932-4601-f25d-807c09653dd3"
      },
      "source": [
        "import matplotlib.pyplot as plt\n",
        "\n",
        "fig = plt.figure()\n",
        "plt = df_apple['AdjClose'].plot()\n",
        "fig.savefig('close_plot.png')"
      ],
      "execution_count": null,
      "outputs": [
        {
          "output_type": "display_data",
          "data": {
            "image/png": "[encoded data removed]",
            "text/plain": [
              "<Figure size 432x288 with 1 Axes>"
            ]
          },
          "metadata": {
            "tags": []
          }
        }
      ]
    },
    {
      "cell_type": "markdown",
      "metadata": {
        "id": "4FJvL-pbfEz_"
      },
      "source": [
        "Looking at the summary statistics and movement of prices give us a high-level picture of how the apple stock has been performing for the past ~10 years."
      ]
    },
    {
      "cell_type": "markdown",
      "metadata": {
        "id": "6Pw_5S8RfJqX"
      },
      "source": [
        "\n",
        "Here's a quick summary of key takeaways from this notebook :\n",
        "\n",
        "- We saw how we can get access to historical stock pricing datasets from different credible sources.\n",
        "- We learned to peek at the data using the head() method and look at its information using the info() method.\n",
        "- Captured the descriptive statistics option using the describe() method \n",
        "- and plotted the prices using matplotlib library."
      ]
    }
  ]
}